{
 "cells": [
  {
   "cell_type": "code",
   "execution_count": null,
   "id": "9acfb5e3",
   "metadata": {},
   "outputs": [],
   "source": [
    "from abc import ABC, abstractmethod\n",
    "from typing import List, Any\n",
    "\n",
    "class TreeNode(ABC):\n",
    "    def __init__(self):\n",
    "        self.children: List['TreeNode'] = []\n",
    "\n",
    "    def add_child(self, child: 'TreeNode'):\n",
    "        self.children.append(child)\n",
    "\n",
    "    @abstractmethod\n",
    "    def accept(self, visitor: 'TreeVisitor'):\n",
    "        pass\n",
    "\n",
    "class NumericNode(TreeNode):\n",
    "    def __init__(self, value: float):\n",
    "        super().__init__()\n",
    "        self.value = value\n",
    "\n",
    "    def accept(self, visitor: 'TreeVisitor'):\n",
    "        return visitor.visit_numeric(self)\n",
    "\n",
    "class StringNode(TreeNode):\n",
    "    def __init__(self, value: str):\n",
    "        super().__init__()\n",
    "        self.value = value\n",
    "\n",
    "    def accept(self, visitor: 'TreeVisitor'):\n",
    "        return visitor.visit_string(self)\n",
    "\n",
    "class TreeVisitor(ABC):\n",
    "    @abstractmethod\n",
    "    def visit_numeric(self, node: NumericNode) -> Any:\n",
    "        pass\n",
    "\n",
    "    @abstractmethod\n",
    "    def visit_string(self, node: StringNode) -> Any:\n",
    "        pass"
   ]
  },
  {
   "cell_type": "code",
   "execution_count": 7,
   "id": "0e8b8649",
   "metadata": {},
   "outputs": [],
   "source": [
    "# Example data structure\n",
    "root = NumericNode(10)\n",
    "child1 = StringNode(\"hello\")\n",
    "child2 = NumericNode(20)\n",
    "root.add_child(child1)\n",
    "root.add_child(child2)"
   ]
  },
  {
   "cell_type": "code",
   "execution_count": 8,
   "id": "22507c06",
   "metadata": {},
   "outputs": [],
   "source": [
    "# Example concrete visitor that evaluates the tree, but only print the content of string nodes\n",
    "class PrintStringVisitor(TreeVisitor):\n",
    "    def visit_numeric(self, node: NumericNode) -> Any:\n",
    "        for child in node.children:\n",
    "            child.accept(self)\n",
    "\n",
    "    def visit_string(self, node: StringNode) -> Any:\n",
    "        print(f\"StringNode with value: {node.value}\")\n",
    "        for child in node.children:\n",
    "            child.accept(self)"
   ]
  },
  {
   "cell_type": "code",
   "execution_count": 9,
   "id": "922f0d3d",
   "metadata": {},
   "outputs": [
    {
     "name": "stdout",
     "output_type": "stream",
     "text": [
      "StringNode with value: hello\n"
     ]
    }
   ],
   "source": [
    "# Run the visitor\n",
    "visitor = PrintStringVisitor()\n",
    "root.accept(visitor)"
   ]
  },
  {
   "cell_type": "code",
   "execution_count": 10,
   "id": "d82ee835",
   "metadata": {},
   "outputs": [
    {
     "name": "stdout",
     "output_type": "stream",
     "text": [
      "Total sum of numeric nodes: 30\n"
     ]
    }
   ],
   "source": [
    "# Another visitor that computes the sum of all numeric nodes\n",
    "class SumNumericVisitor(TreeVisitor):\n",
    "    def __init__(self):\n",
    "        self.total = 0\n",
    "\n",
    "    def visit_numeric(self, node: NumericNode) -> Any:\n",
    "        self.total += node.value\n",
    "        for child in node.children:\n",
    "            child.accept(self)\n",
    "        return self.total\n",
    "\n",
    "    def visit_string(self, node: StringNode) -> Any:\n",
    "        for child in node.children:\n",
    "            child.accept(self)\n",
    "    \n",
    "# Run the sum visitor\n",
    "sum_visitor = SumNumericVisitor()\n",
    "val = root.accept(sum_visitor)\n",
    "print(f\"Total sum of numeric nodes: {val}\")"
   ]
  },
  {
   "cell_type": "code",
   "execution_count": null,
   "id": "76649bd6",
   "metadata": {},
   "outputs": [],
   "source": []
  }
 ],
 "metadata": {
  "kernelspec": {
   "display_name": "base",
   "language": "python",
   "name": "python3"
  },
  "language_info": {
   "codemirror_mode": {
    "name": "ipython",
    "version": 3
   },
   "file_extension": ".py",
   "mimetype": "text/x-python",
   "name": "python",
   "nbconvert_exporter": "python",
   "pygments_lexer": "ipython3",
   "version": "3.13.5"
  }
 },
 "nbformat": 4,
 "nbformat_minor": 5
}
